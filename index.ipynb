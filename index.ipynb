{
 "cells": [
  {
   "cell_type": "markdown",
   "metadata": {},
   "source": [
   "# Interactive map with binder"
   ]
  },
  {
   "cell_type": "markdown",
   "metadata": {},
   "source": [
    "Interactive map with binder:\n",
    "All detail and credit go to: https://walkenho.github.io/beergarden-happiness-with-python/"
   ]
  },
  {
   "cell_type": "markdown",
   "metadata": {},
   "source": [
    "# Imports\n",
    "First, we import the libraries."
   ]
  },
  {
   "cell_type": "code",
   "execution_count": null,
   "metadata": {},
   "outputs": [],
   "source": [
    "import pandas as pd\n",
    "import requests\n",
    "import wget\n",
    "\n",
    "import folium\n",
    "from folium.plugins import MarkerCluster"
   ]
  },
  {
   "cell_type": "markdown",
   "metadata": {},
   "source": [
    "# Getting Data\n",
    "\n",
    "We use wget to download the file and read it into a pandas data frame. Make sure to set the encoding since the file contains special characters (lots of Cafes on the list)."
   ]
  },
  {
   "cell_type": "code",
   "execution_count": null,
   "metadata": {},
   "outputs": [],
   "source": [
    "filename = wget.download(\"http://www.edinburgh.gov.uk/download/downloads/id/11854/tables_and_chairs_permits.csv\")\n",
    "\n",
    "df0 = pd.read_csv(filename, encoding = \"ISO-8859-1\")\n",
    "df0.head()"
   ]
  },
  {
   "cell_type": "markdown",
   "metadata": {},
   "source": [
    "A quick look at the data reveals that there are a few duplicates in the data. They are mainly due to multiple permits with different start and end dates. A good way of cleaning would be to filter on dates, but frankly I don’t care that much at this point, so I just keep the premise names and addresses and drop the duplicates. (Note: The file also contains information about the table area, which I might revisit at some point in the future). After dropping the duplicates, we are left with 389 rows with premise names and addresses."
   ]
  },
  {
   "cell_type": "code",
   "execution_count": null,
   "metadata": {},
   "outputs": [],
   "source": [
    "# dropping duplicate entries\n",
    "df1 = df0.loc[:, ['Premises Name', 'Premises Address']]\n",
    "df1 = df1.drop_duplicates()\n",
    "\n",
    "# in 2012: 280\n",
    "print(df1.shape[0])"
   ]
  },
  {
   "cell_type": "markdown",
   "metadata": {},
   "source": [
    "If we want to visualize premises on a map, addresses are not enough, we need GPS coordinates. There are different APIs, which allow you to query for an address and will return latitudes and longitudes (a process called geocoding. On possibility is to use the Google Maps API, but it comes with caveats. The OpenStreetMap API provides the same functionality, but is free to use and the results are decent enough for my purpose.\n",
    "\n",
    "We use the pandas map function to obtain the API response for each row. After querying the API, we drop all rows, where we did get not get a response. Again, I am not too botherered about the few premises (about 20) which I am loosing, there are plenty left."
   ]
  },
  {
   "cell_type": "code",
   "execution_count": null,
   "metadata": {},
   "outputs": [],
   "source": [
    "def query_address(address):\n",
    "    \"\"\"Return response from open streetmap.\n",
    "    \n",
    "    Parameter:\n",
    "    address - address of establishment\n",
    "    \n",
    "    Returns:\n",
    "    result - json, response from open street map\n",
    "    \"\"\"\n",
    "    \n",
    "    url = \"https://nominatim.openstreetmap.org/search\"\n",
    "    parameters = {'q':'{}, Edinburgh'.format(address), 'format':'json'}\n",
    "    \n",
    "    response = requests.get(url, params=parameters)\n",
    "    # don't want to raise an error to not stop the processing\n",
    "    # print address instead for future inspection\n",
    "    if response.status_code != 200:\n",
    "        print(\"Error querying {}\".format(address))\n",
    "        result = {}\n",
    "    else:\n",
    "        result = response.json()\n",
    "\n",
    "    return result\n",
    "\n",
    "\n",
    "df1['json'] = df1['Premises Address'].map(lambda x: query_address(x))\n",
    "\n",
    "# drop empty responses\n",
    "df2 = df1[df1['json'].map(lambda d: len(d)) > 0].copy()\n",
    "print(df2.shape[0])"
   ]
  },
  {
   "cell_type": "markdown",
   "metadata": {},
   "source": [
    "Looking at the json fields in the response, we find that in addition to the coordinates, the API also returns a field named ‘type’, which contains the type of premise at this address. I add this information to the data frame together with the coordinates."
   ]
  },
  {
   "cell_type": "code",
   "execution_count": null,
   "metadata": {},
   "outputs": [],
   "source": [
    "# extract relevant fields from API response (json format)\n",
    "df2['lat'] = df2['json'].map(lambda x: x[0]['lat'])\n",
    "df2['lon'] = df2['json'].map(lambda x: x[0]['lon'])\n",
    "df2['type'] = df2['json'].map(lambda x: x[0]['type'])"
   ]
  },
  {
   "cell_type": "markdown",
   "metadata": {},
   "source": [
    "The most frequent premise types are cafes, pubs, restaurants, tertiary and houses:"
   ]
  },
  {
   "cell_type": "code",
   "execution_count": null,
   "metadata": {},
   "outputs": [],
   "source": [
    "df2.type.value_counts()[:5]"
   ]
  },
  {
   "cell_type": "markdown",
   "metadata": {},
   "source": [
    "# Assigning Premise Categories\n",
    "I am mostly interested in distinguishing between two types of premises: the ones that sell coffee and are more likely to be open during the day (like coffee shops and bakeries) and the ones that sell beer and are more likely to open in the evenings (like pubs and restaurants). I therefore want to sort my premises into three categories:\n",
    "\n",
    "Category 1: day-time places (coffee shops, bakeries, delis, ice-cream)\n",
    "Category 2: pubs, restaurants, fast-food and bars\n",
    "Category 3: everything else\n",
    "\n",
    "To do this I have two sources of information: the premise name and the type returned by OpenStreetMap. Looking at the data, we find that the type is good first indicator, but also that many places are labeled incorrectly or not at all. I therefor apply a two-step approach: i) Assign the category based on the OpenStreetMap type ii) Clean up the data using its name, where this steps overwrites step i). To clean up the data, I decided to overrule the OpenStreetMap classification if the premise name contains certain key elements (such as ‘cafe’, ‘coffee’ or similar for coffee shops and ‘restaurant’, ‘inn’ or similar for restaurant and pubs). This misclassifies for example Cafe Andaluz as coffee shop, but works decently well in most cases. Particularly it seems to most keep to the pattern of classifying as coffee shops places, which are likely to be open during the day, so it works for my purpose. Of course, with fewer than 400 entries, one could manually go through the list and assign the correct category to each and every one of the entries. However, I am interested in creating a process, which can be easily transfered to other places, therefore a manual intervention specifically taylored to Edinburgh’s scenery is not suitable."
   ]
  },
  {
   "cell_type": "markdown",
   "metadata": {},
   "source": [
    "# Assigning Premise Categories According to OpenStreetMap Type"
   ]
  },
  {
   "cell_type": "code",
   "execution_count": null,
   "metadata": {},
   "outputs": [],
   "source": [
    "def define_category(mytype):\n",
    "    if mytype in ['cafe', 'bakery', 'deli', 'ice_cream']:\n",
    "        category = 1\n",
    "    elif mytype in ['restaurant', 'pub', 'bar', 'fast_food']:\n",
    "        category = 2\n",
    "    else:\n",
    "        category = 3\n",
    "    return category\n",
    "\n",
    "# assign category according to OpenStreetMap type\n",
    "df2['category'] = df2['type'].map(lambda mytype: define_category(mytype))"
   ]
  },
  {
   "cell_type": "markdown",
   "metadata": {},
   "source": [
    "# Overwriting Categories According to Premise Name"
   ]
  },
  {
   "cell_type": "code",
   "execution_count": null,
   "metadata": {},
   "outputs": [],
   "source": [
    "def flag_premise(premisename, category):\n",
    "    \"\"\"Flag premise according to its name.\n",
    "    \n",
    "    Parameter: \n",
    "    premisename - str\n",
    "    \n",
    "    Returns:\n",
    "    ans - boolean\n",
    "    \"\"\"\n",
    "    prem = str(premisename).lower()\n",
    "    if ((category == 'coffeeshop' and ('caf' in prem \n",
    "                                       or 'coffee' in prem \n",
    "                                       or 'Tea' in str(premisename) \n",
    "                                       or 'bake' in prem \n",
    "                                       or 'bagel' in prem \n",
    "                                       or 'roast' in prem))\n",
    "         or \n",
    "        (category == 'restaurant' and ('restaurant' in prem \n",
    "                                       or 'bar ' in prem \n",
    "                                       or 'tavern' in prem \n",
    "                                       or 'cask' in prem \n",
    "                                       or 'pizza' in prem\n",
    "                                       or 'whisky' in prem\n",
    "                                       or 'kitchen' in prem\n",
    "                                       or 'Arms' in str(premisename)\n",
    "                                       or 'Inn' in str(premisename) \n",
    "                                       or 'Bar' in str(premisename)))):\n",
    "        ans = True\n",
    "    else:\n",
    "        ans = False\n",
    "    return ans\n",
    "\n",
    "# flag coffee shops and restaurants according to their names\n",
    "df2['is_coffeeshop'] = df2['Premises Name'].map(lambda x: flag_premise(x, category='coffeeshop'))\n",
    "df2['is_restaurant'] = df2['Premises Name'].map(lambda x: flag_premise(x, category='restaurant'))"
   ]
  },
  {
   "cell_type": "markdown",
   "metadata": {},
   "source": [
    "A quick inspection shows that the reassignement seems reasonable:"
   ]
  },
  {
   "cell_type": "code",
   "execution_count": null,
   "metadata": {},
   "outputs": [],
   "source": [
    "# show some differences between classification by name and by type returned by the API\n",
    "df2.loc[(df2.is_coffeeshop) & (df2.type != 'cafe'), ['Premises Name', 'type']].head(10)"
   ]
  },
  {
   "cell_type": "markdown",
   "metadata": {},
   "source": [
    "I reassign the category for the premises flagged as restaurant or coffee-shop. Should a premise have been flagged as both, the coffee shop category takes precedence:"
   ]
  },
  {
   "cell_type": "code",
   "execution_count": null,
   "metadata": {},
   "outputs": [],
   "source": [
    "# re-set category if flagged as restaurant or coffeeshop through name\n",
    "df2.loc[df2.is_restaurant, 'category'] = 2\n",
    "df2.loc[df2.is_coffeeshop, 'category'] = 1\n"
   ]
  },
  {
   "cell_type": "markdown",
   "metadata": {},
   "source": [
    "#  Visualization\n",
    "\n",
    "Finally, we use Python’s Folium package to visualize our results as markers on a map. Adding the individual points to MarkerClusters allows us to summarize the symbols into groups if too many symbols are in the same region. Creating a separate cluster for each category allows us to use the LayerControl option to toggle each of the categories individually. We use the ‘fa’ prefix to use the font-awesome (instead of the standard glyphicon) symbols."
   ]
  },
  {
   "cell_type": "code",
   "execution_count": null,
   "metadata": {},
   "outputs": [],
   "source": [
    "# central coordinates of Edinburgh\n",
    "EDI_COORDINATES = (55.953251, -3.188267)\n",
    "  \n",
    "# create empty map zoomed in on Edinburgh\n",
    "map = folium.Map(location=EDI_COORDINATES, zoom_start=12)\n",
    "\n",
    "# add one markercluster per type to allow for individual toggling\n",
    "coffeeshops = MarkerCluster(name='coffee shops').add_to(map)\n",
    "restaurants = MarkerCluster(name='pubs and restaurants').add_to(map)\n",
    "other = MarkerCluster(name='other').add_to(map)\n",
    "\n",
    "# add coffeeshops to the map\n",
    "for chairs in df2[df2.category == 1].iterrows():\n",
    "    folium.Marker(location=[float(chairs[1]['lat']), float(chairs[1]['lon'])], \n",
    "                  popup=chairs[1]['Premises Name'],\n",
    "                 icon=folium.Icon(color='green', icon_color='white', icon='coffee', angle=0, prefix='fa'))\\\n",
    "    .add_to(coffeeshops)\n",
    "    \n",
    "# add pubs and restaurants to the map\n",
    "for chairs in df2[df2.category == 2].iterrows():\n",
    "    folium.Marker(location=[float(chairs[1]['lat']), float(chairs[1]['lon'])], \n",
    "                  popup=chairs[1]['Premises Name'],\n",
    "                 icon=folium.Icon(color='blue', icon='glass', prefix='fa'))\\\n",
    "    .add_to(restaurants)\n",
    "    \n",
    "# add other to the map\n",
    "for chairs in df2[df2.category == 3].iterrows():\n",
    "    folium.Marker(location=[float(chairs[1]['lat']), float(chairs[1]['lon'])], \n",
    "                  popup=chairs[1]['Premises Name'],\n",
    "                 icon=folium.Icon(color='gray', icon='question', prefix='fa'))\\\n",
    "    .add_to(other)\n",
    "    \n",
    "# enable toggling of data points\n",
    "folium.LayerControl().add_to(map)    \n",
    "    \n",
    "display(map)"
   ]
  },
  {
   "cell_type": "markdown",
   "metadata": {},
   "source": [
    "# Saving the map to png\n",
    "\n",
    "\n",
    "I wanted to have a screen shot of the map to be able to imbed the static version into my Medium post (which does not accept the dynamic version). The best way to get a static version (which is not just taking a screenshot) which I have found is to save the map in HTML format and then use Selenium to save a screenshot of the HTML. This is how this can be done (credits to this stackoverflow post for the Selenium part).\n",
    "\n",
    "Note: In order to get the following to work you need to install the geckodriver. Download the file from here and put it into /usr/bin/local (for Linux machines)."
   ]
  },
  {
   "cell_type": "code",
   "execution_count": null,
   "metadata": {},
   "outputs": [],
   "source": [
    "import os\n",
    "import time\n",
    "from selenium import webdriver\n",
    "\n",
    "# save map\n",
    "fn = 'beergarden_happiness_map.html'\n",
    "tmpurl = 'file:///{path}/{mapfile}'.format(path=os.getcwd(),mapfile=fn)\n",
    "map.save(fn)\n",
    "\n",
    "# download screenshot of map\n",
    "delay = 5\n",
    "browser = webdriver.Firefox()\n",
    "browser.get(tmpurl)\n",
    "\n",
    "# give the map tiles some time to load\n",
    "time.sleep(delay)\n",
    "browser.save_screenshot('{mapname}.png'.format(mapname=fn.split('.')[0]))\n",
    "browser.quit()\n"
   ]
  },
  {
   "cell_type": "code",
   "execution_count": null,
   "metadata": {},
   "outputs": [],
   "source": [
    "All done!"
   ]
  }
 ],
 "metadata": {
  "kernelspec": {
   "display_name": "Python 3",
   "language": "python",
   "name": "python3"
  },
  "language_info": {
   "codemirror_mode": {
    "name": "ipython",
    "version": 3
   },
   "file_extension": ".py",
   "mimetype": "text/x-python",
   "name": "python",
   "nbconvert_exporter": "python",
   "pygments_lexer": "ipython3",
   "version": "3.7.1"
  }
 },
 "nbformat": 4,
 "nbformat_minor": 2
}
